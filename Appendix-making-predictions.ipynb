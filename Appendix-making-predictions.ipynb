{
 "cells": [
  {
   "cell_type": "markdown",
   "id": "46067675",
   "metadata": {},
   "source": [
    " While we use the area ratio to compare model performance, the area ratio cannot be used to make predictions. In this notebook, we analyze the predictive power of F1, accuracy and weighted accuracy scores."
   ]
  },
  {
   "cell_type": "code",
   "execution_count": 1,
   "id": "86a55b73",
   "metadata": {},
   "outputs": [],
   "source": [
    "import pandas as pd\n",
    "import matplotlib.pyplot as plt\n",
    "import numpy as np\n",
    "from seaborn import set_style\n",
    "set_style(\"whitegrid\")"
   ]
  },
  {
   "cell_type": "code",
   "execution_count": 2,
   "id": "b7e008c8",
   "metadata": {},
   "outputs": [],
   "source": [
    "df = pd.read_csv(\"../Data/default.csv\", skiprows=1, index_col = \"ID\")"
   ]
  },
  {
   "cell_type": "code",
   "execution_count": 3,
   "id": "960aa0bb",
   "metadata": {},
   "outputs": [],
   "source": [
    "from sklearn.model_selection import train_test_split"
   ]
  },
  {
   "cell_type": "code",
   "execution_count": 4,
   "id": "677aa27d",
   "metadata": {},
   "outputs": [],
   "source": [
    "df_train, df_test = train_test_split(df.copy(),\n",
    "                                        shuffle = True,\n",
    "                                        random_state = 167,\n",
    "                                        test_size = .2,\n",
    "                                        stratify = df[\"default payment next month\"])"
   ]
  },
  {
   "cell_type": "markdown",
   "id": "6cf9d34a",
   "metadata": {},
   "source": [
    "The F1 score is given by \n",
    "\n",
    "$$\n",
    "\\text{F}1  = \\frac{2*(\\text{Precision}*\\text{Recall})}{\\text{Precision}+ \\text{Recall}},\n",
    "$$\n",
    "if both precision and recall are non-zero, and 0 otherwise. \n",
    "\n",
    "The accuracy is given by\n",
    "\n",
    "$$\n",
    "\\text{Acc} = \\frac{\\text{True positives } + \\text{ True negatives}}{\\text{Total number of cases}}.\n",
    "$$\n",
    "\n",
    "We define the weighted accuracy as \n",
    "\n",
    "$$\n",
    "\\frac{\\text{True positive rate } + \\text{ True negative rate}}{2}.\n",
    "$$\n",
    "\n",
    "Maximizing the weighted accuracy amounts to minimizing the sum of the False positive and False negative rates. This scoore is more easily adaptable to cost functions. If for instance, a company had the cost function\n",
    "\n",
    "$$\n",
    "C = (a_1)*(\\text{False positive rate}) + (a_2)*(\\text{False negative rate}),\n",
    "$$\n",
    "\n",
    "then the modified weighted accuracy score would be \n",
    "\n",
    "$$\\left(\\frac{a_1}{a_1 + a_2}\\right)*(\\text{True negative rate}) + \\left(\\frac{a_2}{a_1+a_2}\\right)*(\\text{True positive rate})$$\n",
    "\n",
    "In this notebook, we assume $a_1=a_2=1$."
   ]
  },
  {
   "cell_type": "markdown",
   "id": "acc72b68",
   "metadata": {},
   "source": [
    "In the next block, we create functions to compute these scores."
   ]
  },
  {
   "cell_type": "code",
   "execution_count": 5,
   "id": "012dd4af",
   "metadata": {},
   "outputs": [],
   "source": [
    "from sklearn.metrics import confusion_matrix\n",
    "\n",
    "#returns in order: (0,0), (0,1), (1,0), (1,1)\n",
    "def conf_matrix_components(cutoffs, true_data, predicted_prob):\n",
    "    tp_s=[]\n",
    "    fp_s=[]\n",
    "    tn_s=[]\n",
    "    fn_s=[]\n",
    "    \n",
    "    for cutoff in cutoffs:\n",
    "        pred_cutoff=1*(predicted_prob >=cutoff)\n",
    "        cmat=confusion_matrix(true_data, pred_cutoff)\n",
    "        tn = cmat[0][0]\n",
    "        tp = cmat[1][1]\n",
    "        fp = cmat[0][1]\n",
    "        fn = cmat[1][0]\n",
    "        \n",
    "        tp_s.append(tp)\n",
    "        tn_s.append(tn)\n",
    "        fp_s.append(fp)\n",
    "        fn_s.append(fn)\n",
    "        \n",
    "    return [tn_s, fp_s, fn_s, tp_s]\n",
    "\n",
    "#precision scores given list of confusion matrix components in order left-to-right and up-to-down\n",
    "#similarly for the other scores\n",
    "def prec_scores(list_comps): \n",
    "    fp_s=list_comps[1]\n",
    "    tp_s=list_comps[3]\n",
    "    prec=np.ones(len(fp_s))\n",
    "    for i in range(len(tp_s)):\n",
    "        if tp_s[i]!=0 or fp_s[i]!=0:\n",
    "            prec[i]=tp_s[i]/(tp_s[i]+fp_s[i])\n",
    "    return prec;\n",
    "\n",
    "def recall_scores(list_comps):\n",
    "    tp_s=list_comps[3]\n",
    "    fn_s=list_comps[2]\n",
    "    rec= [tp_s[i]/(tp_s[i]+fn_s[i]) for i in range(len(tp_s))]\n",
    "    return rec;\n",
    "\n",
    "def f1_scores(list_comps):\n",
    "    p=prec_scores(list_comps)\n",
    "    r=recall_scores(list_comps)\n",
    "    f1=np.zeros(len(p));\n",
    "    for i in range(len(p)):\n",
    "        if p[i]!=0 or r[i]!=0:\n",
    "            f1[i]= (2*p[i]*r[i])/(p[i]+r[i])\n",
    "    return list(f1)\n",
    "\n",
    "def accuracy(list_comps):\n",
    "    tn, fp, fn, tp = list_comps\n",
    "    acc=[(tn[i]+tp[i])/(tn[i]+tp[i] + fp[i]+fn[i]) for i in range(len(tp))]\n",
    "    return acc;\n",
    "\n",
    "def weighted_accuracy(list_comps):\n",
    "    #(1/2)*(tn/#true 0s + tp/# true 1s)\n",
    "    tn, fp, fn, tp = list_comps\n",
    "    w_acc=[(0.5)*(tn[i]/(tn[i] + fp[i])) + (0.5)*(tp[i]/(tp[i] + fn[i])) for i in range(len(tp)) ]\n",
    "    return w_acc"
   ]
  },
  {
   "cell_type": "code",
   "execution_count": 6,
   "id": "b4347d4e",
   "metadata": {},
   "outputs": [],
   "source": [
    "def preprocess(df_original):\n",
    "    df_new = df_original.copy()\n",
    "    df_new.rename(columns={\"PAY_0\":\"PAY_1\"}, inplace=True)\n",
    "   \n",
    "    for i in range(1, 7):\n",
    "        df_new[\"BILL_FRAC\"+str(i)] = df_new[\"BILL_AMT\"+str(i)]/df_new[\"LIMIT_BAL\"]\n",
    "    for i in range(1, 6):\n",
    "        df_new[\"CHARGE_AMT\"+str(i)] = df_new[\"BILL_AMT\"+str(i)] - (df_new[\"BILL_AMT\"+str(i+1)] - df_new[\"PAY_AMT\"+str(i)])\n",
    "\n",
    "\n",
    "    df_new.drop(columns=[\"LIMIT_BAL\", \"AGE\", \"SEX\", \"EDUCATION\", \"MARRIAGE\"]+[\"PAY_AMT\"+str(i) for i in range(1, 7)], inplace=True)\n",
    "\n",
    "    return df_new"
   ]
  },
  {
   "cell_type": "markdown",
   "id": "d8f8cccd",
   "metadata": {},
   "source": [
    "We start with analyzing the scores of only one of the models. Later we will analyze some more."
   ]
  },
  {
   "cell_type": "code",
   "execution_count": 7,
   "id": "cd4d90e2",
   "metadata": {},
   "outputs": [],
   "source": [
    "from sklearn.tree import DecisionTreeClassifier\n",
    "from sklearn.ensemble import RandomForestClassifier\n",
    "\n",
    "def fit_randomforest(X_train, y_train):\n",
    "    pipe = RandomForestClassifier(n_estimators = 100, max_depth = 7, max_samples = 7000, random_state=36830)\n",
    "    pipe.fit(X_train, y_train)\n",
    "    return pipe"
   ]
  },
  {
   "cell_type": "code",
   "execution_count": 8,
   "id": "7808d747",
   "metadata": {},
   "outputs": [],
   "source": [
    "X_train= preprocess(df_train).drop(columns=[\"default payment next month\"])\n",
    "y_train = df_train[\"default payment next month\"]\n",
    "X_test = preprocess(df_test).drop(columns=[\"default payment next month\"])\n",
    "y_test = df_test[\"default payment next month\"]"
   ]
  },
  {
   "cell_type": "code",
   "execution_count": 9,
   "id": "c0fdea33",
   "metadata": {},
   "outputs": [],
   "source": [
    "pipe=fit_randomforest(X_train, y_train) #fit random forest model"
   ]
  },
  {
   "cell_type": "code",
   "execution_count": 10,
   "id": "f5ee6460",
   "metadata": {},
   "outputs": [],
   "source": [
    "#predicted probabilities on the training and test set.\n",
    "predproba_train = pipe.predict_proba(X_train)[:,1]\n",
    "predproba_test = pipe.predict_proba(X_test)[:,1]"
   ]
  },
  {
   "cell_type": "code",
   "execution_count": 11,
   "id": "6dc50f99",
   "metadata": {},
   "outputs": [],
   "source": [
    "#probability cutoffs\n",
    "cutoffs=np.arange(1,0,-0.01)"
   ]
  },
  {
   "cell_type": "code",
   "execution_count": 12,
   "id": "0444c6b4",
   "metadata": {},
   "outputs": [],
   "source": [
    "cmat_list_train = conf_matrix_components(cutoffs, y_train.values, predproba_train)\n",
    "cmat_list_test = conf_matrix_components(cutoffs, y_test.values, predproba_test)"
   ]
  },
  {
   "cell_type": "code",
   "execution_count": null,
   "id": "7dc04896",
   "metadata": {},
   "outputs": [],
   "source": []
  },
  {
   "cell_type": "markdown",
   "id": "d6a232ce",
   "metadata": {},
   "source": [
    "Now that we have our initial set up, let us look at the plots for F1 scores, accuracy and weighted accuracy scores on our training set."
   ]
  },
  {
   "cell_type": "code",
   "execution_count": 13,
   "id": "441a683b",
   "metadata": {},
   "outputs": [],
   "source": [
    "def plot_metrics(cutoffs, true_data, predicted_prob, model_name):\n",
    "    cmat_list = conf_matrix_components(cutoffs, true_data, predicted_prob)\n",
    "    x=cutoffs\n",
    "    y0=f1_scores(cmat_list)\n",
    "    y1=accuracy(cmat_list)\n",
    "    y2=weighted_accuracy(cmat_list)\n",
    "    \n",
    "    plt.figure(figsize=(10,6))\n",
    "    \n",
    "    plt.plot(x, y0, 'r')\n",
    "    plt.plot(x,y1, 'b')\n",
    "    plt.plot(x, y2, 'g')\n",
    "    plt.xlabel('Probability cutoff')\n",
    "    plt.ylabel('Values')\n",
    "    plt.legend(['F1', 'Accuracy', 'Weighted accuracy'])\n",
    "    plt.title('Plot of F1, accuracy and weighted accuracy for '+ model_name)\n",
    "    \n",
    "    plt.show()\n",
    "    \n",
    "    return None"
   ]
  },
  {
   "cell_type": "code",
   "execution_count": 14,
   "id": "5809b0a9",
   "metadata": {
    "scrolled": true
   },
   "outputs": [
    {
     "data": {
      "image/png": "[encoded data removed]",
      "text/plain": [
       "<Figure size 720x432 with 1 Axes>"
      ]
     },
     "metadata": {},
     "output_type": "display_data"
    }
   ],
   "source": [
    "plot_metrics(cutoffs, y_train.values, predproba_train, 'Random Forest')"
   ]
  },
  {
   "cell_type": "markdown",
   "id": "f7da4d3f",
   "metadata": {},
   "source": [
    "Recall that our data is imbalanced. Only about 22% of the clients in the sample default, and in reality the percentage is much lower. Accuracy doesn't weight the number of true positives and true negatives by how many actual positives and negatives there are in the data, while F1 and weighted accuracy do. "
   ]
  },
  {
   "cell_type": "markdown",
   "id": "0bdc81b6",
   "metadata": {},
   "source": [
    "We plot the precision and recall separately to illustrate that in this case, a lower probability threshold (provided by F1 or weighted accuracy) is better for prediction. "
   ]
  },
  {
   "cell_type": "code",
   "execution_count": 15,
   "id": "fb452358",
   "metadata": {},
   "outputs": [
    {
     "data": {
      "image/png": "[encoded data removed]",
      "text/plain": [
       "<Figure size 720x432 with 1 Axes>"
      ]
     },
     "metadata": {},
     "output_type": "display_data"
    }
   ],
   "source": [
    "plt.figure(figsize=(10,6))\n",
    "plt.plot(cutoffs, prec_scores(cmat_list_train) , 'r')\n",
    "plt.plot(cutoffs, recall_scores(cmat_list_train), 'b')\n",
    "plt.ylabel('Values')\n",
    "plt.legend(['Precision', 'Recall'])\n",
    "plt.title('Plot of precision and recall for Random Forest')\n",
    "plt.show()"
   ]
  },
  {
   "cell_type": "markdown",
   "id": "7bbcfa74",
   "metadata": {},
   "source": [
    "Therefore to optimize recall, we probably do not want a very high cut off. "
   ]
  },
  {
   "cell_type": "code",
   "execution_count": 16,
   "id": "04605c8b",
   "metadata": {},
   "outputs": [],
   "source": [
    "def best_cutoffs_singlemodel(y_ho, predicted_prob):\n",
    "    cutoffs=np.arange(1,0,-0.01)\n",
    "    cmat_list=conf_matrix_components(cutoffs, y_ho, predicted_prob)\n",
    "    \n",
    "    f1=f1_scores(cmat_list)\n",
    "    f1_max=max(f1)\n",
    "    f1_max_index=f1.index(f1_max)\n",
    "    print('The best F1 score for this model is '+ str(f1_max))\n",
    "    print('Corresponding probability cutoff: ', round(cutoffs[f1_max_index],2))\n",
    "    pred1=1*(predicted_prob >= cutoffs[f1_max_index])\n",
    "    print('Proportion of people predicted as defaulters: ', round(sum(pred1)/len(y_ho),3) ) \n",
    "    \n",
    "    print('========================')\n",
    "\n",
    "    acc=accuracy(cmat_list)\n",
    "    acc_max=max(acc)\n",
    "    acc_max_index=acc.index(acc_max)\n",
    "    print('The best Accuracy score for this model is '+ str(acc_max))\n",
    "    print('Corresponding probability cutoff: ', round(cutoffs[acc_max_index],2))\n",
    "    \n",
    "    pred2=1*(predicted_prob >= cutoffs[acc_max_index])\n",
    "    print('Proportion of people predicted as defaulters: ', round(sum(pred2)/len(y_ho),3) ) \n",
    "    \n",
    "    print('========================')\n",
    "    wacc=weighted_accuracy(cmat_list)\n",
    "    wacc_max=max(wacc)\n",
    "    wacc_max_index=wacc.index(wacc_max)\n",
    "    print('The best Weighted Accuracy score for this model is '+ str(wacc_max))\n",
    "    print('Corresponding probability cutoff: ', round(cutoffs[wacc_max_index],2))\n",
    "    \n",
    "    pred3=1*(predicted_prob >= cutoffs[wacc_max_index])\n",
    "    print('Proportion of people predicted as defaulters: ', round(sum(pred3)/len(y_ho),3) ) \n",
    "    print('========================')"
   ]
  },
  {
   "cell_type": "markdown",
   "id": "b58dde84",
   "metadata": {},
   "source": [
    "Now let's look at the proportion of defaulters predicted by taking the maximum of each score on the training set."
   ]
  },
  {
   "cell_type": "code",
   "execution_count": 17,
   "id": "dd74881d",
   "metadata": {
    "scrolled": true
   },
   "outputs": [
    {
     "name": "stdout",
     "output_type": "stream",
     "text": [
      "The best F1 score for this model is 0.5686834094368342\n",
      "Corresponding probability cutoff:  0.29\n",
      "Proportion of people predicted as defaulters:  0.217\n",
      "========================\n",
      "The best Accuracy score for this model is 0.8308333333333333\n",
      "Corresponding probability cutoff:  0.44\n",
      "Proportion of people predicted as defaulters:  0.132\n",
      "========================\n",
      "The best Weighted Accuracy score for this model is 0.7311540162356704\n",
      "Corresponding probability cutoff:  0.21\n",
      "Proportion of people predicted as defaulters:  0.339\n",
      "========================\n"
     ]
    }
   ],
   "source": [
    "best_cutoffs_singlemodel(y_train, predproba_train)"
   ]
  },
  {
   "cell_type": "markdown",
   "id": "c661ef96",
   "metadata": {},
   "source": [
    "On the other hand, the proportion of defaulters in the training set is:"
   ]
  },
  {
   "cell_type": "code",
   "execution_count": 18,
   "id": "312c1673",
   "metadata": {},
   "outputs": [
    {
     "data": {
      "text/plain": [
       "0.22120833333333334"
      ]
     },
     "execution_count": 18,
     "metadata": {},
     "output_type": "execute_result"
    }
   ],
   "source": [
    "sum(y_train.values)/len(y_train)"
   ]
  },
  {
   "cell_type": "markdown",
   "id": "04ad3e6b",
   "metadata": {},
   "source": [
    "Repeating the same analysis for the test data:"
   ]
  },
  {
   "cell_type": "code",
   "execution_count": 19,
   "id": "75e966a9",
   "metadata": {},
   "outputs": [
    {
     "name": "stdout",
     "output_type": "stream",
     "text": [
      "The best F1 score for this model is 0.5454545454545454\n",
      "Corresponding probability cutoff:  0.26\n",
      "Proportion of people predicted as defaulters:  0.257\n",
      "========================\n",
      "The best Accuracy score for this model is 0.818\n",
      "Corresponding probability cutoff:  0.47\n",
      "Proportion of people predicted as defaulters:  0.122\n",
      "========================\n",
      "The best Weighted Accuracy score for this model is 0.7152658790715345\n",
      "Corresponding probability cutoff:  0.25\n",
      "Proportion of people predicted as defaulters:  0.274\n",
      "========================\n",
      "Actual proportion of defaulters:  0.22116666666666668\n"
     ]
    }
   ],
   "source": [
    "best_cutoffs_singlemodel(y_test, predproba_test)\n",
    "print('Actual proportion of defaulters: ', sum(y_test.values)/len(y_test))"
   ]
  },
  {
   "cell_type": "markdown",
   "id": "9ec194ba",
   "metadata": {},
   "source": [
    "In either case, the proportion of people predicted as defaulters by the accuracy score is much lower than the actual proportion; given the nature of the recall curve, this isn't ideal."
   ]
  },
  {
   "cell_type": "markdown",
   "id": "ece9971b",
   "metadata": {},
   "source": [
    "We now do a quick comparison across the models from Notebook 3 (3-compare-model-types.ipynb). We first set up all the models."
   ]
  },
  {
   "cell_type": "code",
   "execution_count": 20,
   "id": "87c3bc35",
   "metadata": {},
   "outputs": [],
   "source": [
    "from sklearn.preprocessing import StandardScaler\n",
    "from sklearn.decomposition import PCA\n",
    "from sklearn.neighbors import KNeighborsClassifier\n",
    "from sklearn.pipeline import Pipeline\n",
    "from sklearn.discriminant_analysis import LinearDiscriminantAnalysis\n",
    "from sklearn.discriminant_analysis import QuadraticDiscriminantAnalysis\n",
    "from sklearn.naive_bayes import GaussianNB\n",
    "from sklearn.tree import DecisionTreeClassifier\n",
    "from sklearn.ensemble import RandomForestClassifier\n",
    "from sklearn.ensemble import ExtraTreesClassifier\n",
    "from sklearn.ensemble import AdaBoostClassifier\n",
    "from sklearn.ensemble import GradientBoostingClassifier\n",
    "\n",
    "def knn(X_train, y_train, X_test, param):\n",
    "    frac, k = param\n",
    "    pipe = Pipeline([(\"scale\", StandardScaler()), \n",
    "                     (\"pca\", PCA(frac)), \n",
    "                     (\"knn\", KNeighborsClassifier(k))])\n",
    "    pipe.fit(X_train, y_train)\n",
    "    return pipe.predict_proba(X_test)[:,1]\n",
    "\n",
    "def lda(X_train, y_train, X_test, param):\n",
    "    pipe = LinearDiscriminantAnalysis()\n",
    "    pipe.fit(X_train, y_train)\n",
    "    return pipe.predict_proba(X_test)[:,1]\n",
    "\n",
    "def qda(X_train, y_train, X_test, param):\n",
    "    pipe = Pipeline([(\"scale\", StandardScaler()), \n",
    "                     (\"pca\", PCA(.9)), \n",
    "                     (\"qda\", QuadraticDiscriminantAnalysis())])\n",
    "    pipe.fit(X_train, y_train)\n",
    "    return pipe.predict_proba(X_test)[:,1]\n",
    "\n",
    "def naivebayes(X_train, y_train, X_test, param):\n",
    "    pipe = GaussianNB()\n",
    "    pipe.fit(X_train, y_train)\n",
    "    return pipe.predict_proba(X_test)[:,1]\n",
    "\n",
    "\n",
    "def decisiontree(X_train, y_train, X_test, param):\n",
    "    d = param[0]\n",
    "    pipe = DecisionTreeClassifier(max_depth = d)\n",
    "    pipe.fit(X_train, y_train)\n",
    "    return pipe.predict_proba(X_test)[:,1]\n",
    "\n",
    "def randomforest(X_train, y_train, X_test, param):\n",
    "    n, d, s = param\n",
    "    pipe = RandomForestClassifier(n_estimators = n, max_depth = d, max_samples = s)\n",
    "    pipe.fit(X_train, y_train)\n",
    "    return pipe.predict_proba(X_test)[:,1]\n",
    "\n",
    "def extratrees(X_train, y_train, X_test, param):\n",
    "    n, d, s = param\n",
    "    pipe = ExtraTreesClassifier(n_estimators = n, max_depth = d, max_samples = s, bootstrap = True)\n",
    "    pipe.fit(X_train, y_train)\n",
    "    return pipe.predict_proba(X_test)[:,1]\n",
    "\n",
    "def ada(X_train, y_train, X_test, param):\n",
    "    n = param[0]\n",
    "    pipe = AdaBoostClassifier(DecisionTreeClassifier(max_depth=1), \n",
    "                              n_estimators=n)\n",
    "    pipe.fit(X_train, y_train)\n",
    "    return pipe.predict_proba(X_test)[:,1]\n",
    "\n",
    "def gradboost(X_train, y_train, X_test, param):\n",
    "    n, rate = param\n",
    "    pipe = GradientBoostingClassifier(n_estimators=n, \n",
    "                                     max_depth=1, \n",
    "                                     learning_rate=rate)\n",
    "    pipe.fit(X_train, y_train)\n",
    "    return pipe.predict_proba(X_test)[:,1]"
   ]
  },
  {
   "cell_type": "code",
   "execution_count": 21,
   "id": "ab2e80ee",
   "metadata": {},
   "outputs": [],
   "source": [
    "models_list=pd.DataFrame({'knn':[knn, (0.99, 260)],\n",
    "                            'lda':[lda, (None,)],\n",
    "                            'qda':[qda, (None,)],\n",
    "                            'naivebayes':[naivebayes, (None,)],\n",
    "                            'decisiontree':[decisiontree, (6,)], \n",
    "                        'randomforest':[randomforest, (100,7,7000)],\n",
    "                        'extratrees':[extratrees, (60,5,80)],\n",
    "                        'ada':[ada, (32,)], 'gradboost':[gradboost, (96, 0.4)] })"
   ]
  },
  {
   "cell_type": "markdown",
   "id": "64b2f201",
   "metadata": {},
   "source": [
    "We now create a function that will calculate and store the maximum of each of the F1, accuracy and weighted accuracy score, the corresponding probability cutoff, and the proportion of people predicted to default. "
   ]
  },
  {
   "cell_type": "code",
   "execution_count": 22,
   "id": "5f7efade",
   "metadata": {},
   "outputs": [],
   "source": [
    "def best_scores(predicted_prob, y_ho):\n",
    "    cmat_list=conf_matrix_components(np.arange(1,0,-0.01), y_ho, predicted_prob)\n",
    "    \n",
    "    #matrix to store the maximum metric score, the corresponding probability cutoff, \n",
    "    #and the predicted proportion of default\n",
    "    scores=np.zeros((3,3)) \n",
    "    \n",
    "    f1=f1_scores(cmat_list)\n",
    "    f1_max=max(f1)\n",
    "    f1_max_index=f1.index(f1_max)\n",
    "    scores[0][0]=f1_max\n",
    "    scores[0][1] = round(cutoffs[f1_max_index],2)\n",
    "    pred1=1*(predicted_prob >= cutoffs[f1_max_index])\n",
    "    scores[0][2] = round(sum(pred1)/len(y_ho),3) \n",
    "    \n",
    "    #-----------------\n",
    "    \n",
    "    wacc=weighted_accuracy(cmat_list)\n",
    "    wacc_max=max(wacc)\n",
    "    wacc_max_index=wacc.index(wacc_max)\n",
    "    scores[1][0]=wacc_max\n",
    "    scores[1][1] = round(cutoffs[wacc_max_index],2)\n",
    "    pred2=1*(predicted_prob >= cutoffs[wacc_max_index])\n",
    "    scores[1][2] = round(sum(pred2)/len(y_ho),3) \n",
    "    \n",
    "    #------------------\n",
    "    \n",
    "    acc=accuracy(cmat_list)\n",
    "    acc_max=max(acc)\n",
    "    acc_max_index=acc.index(acc_max)\n",
    "    scores[2][0]=acc_max\n",
    "    scores[2][1] = round(cutoffs[acc_max_index],2)\n",
    "    pred3=1*(predicted_prob >= cutoffs[acc_max_index])\n",
    "    scores[2][2] = round(sum(pred3)/len(y_ho),3) \n",
    "    \n",
    "    return scores;"
   ]
  },
  {
   "cell_type": "markdown",
   "id": "5c958add",
   "metadata": {},
   "source": [
    "We will store all our values in a dataframe, which will compare how these metrics on the training and test data."
   ]
  },
  {
   "cell_type": "code",
   "execution_count": 41,
   "id": "be26ba38",
   "metadata": {},
   "outputs": [],
   "source": [
    "def run_comparison(X_train, y_train, X_test,  y_test, models_list):\n",
    "    comparison_df=pd.DataFrame()\n",
    "    comparison_df['Model_Name']=models_list.columns\n",
    "    #create arrays for each of the columns in the dataframe.\n",
    "    maxf1=[];\n",
    "    maxwacc=[];\n",
    "    maxacc=[];\n",
    "    cutf1=[];\n",
    "    cutwacc=[];\n",
    "    cutacc=[];\n",
    "    predf1=[];\n",
    "    predwacc=[];\n",
    "    predacc=[];\n",
    "    for model in models_list.columns:\n",
    "        model_fn=models_list[model][0]\n",
    "        param=models_list[model][1]\n",
    "        predict=model_fn(X_train, y_train, X_test, param)\n",
    "        scores=best_scores(predict, y_test)\n",
    "    \n",
    "        #append scores\n",
    "        maxf1.append(scores[0][0]);\n",
    "        maxwacc.append(scores[1][0]);\n",
    "        maxacc.append(scores[2][0]);\n",
    "        cutf1.append(scores[0][1]);\n",
    "        cutwacc.append(scores[1][1]);\n",
    "        cutacc.append(scores[2][1]);\n",
    "        predf1.append(scores[0][2])\n",
    "        predwacc.append(scores[1][2]);\n",
    "        predacc.append(scores[2][2]);\n",
    "\n",
    "    #create data frame with all these metrics\n",
    "    comparison_df['Max_F1']=maxf1\n",
    "    comparison_df['Max_Wtd_Acc']=maxwacc\n",
    "    comparison_df['Max_Acc']=maxacc\n",
    "    comparison_df['Cutoff_F1']=cutf1\n",
    "    comparison_df['Cutoff_Wtd_Acc']=cutwacc\n",
    "    comparison_df['Cutoff_Acc']=cutacc\n",
    "    comparison_df['Pred_Default_F1']=predf1\n",
    "    comparison_df['Pred_Default_Wtd_Acc']=predwacc\n",
    "    comparison_df['Pred_Default_Acc']=predacc\n",
    "    \n",
    "    return comparison_df"
   ]
  },
  {
   "cell_type": "code",
   "execution_count": 38,
   "id": "a617c43b",
   "metadata": {},
   "outputs": [],
   "source": [
    "comparison_train=run_comparison(X_train, y_train, X_train, y_train, models_list)"
   ]
  },
  {
   "cell_type": "code",
   "execution_count": 39,
   "id": "0bc45fc2",
   "metadata": {},
   "outputs": [
    {
     "data": {
      "text/html": [
       "<div>\n",
       "<style scoped>\n",
       "    .dataframe tbody tr th:only-of-type {\n",
       "        vertical-align: middle;\n",
       "    }\n",
       "\n",
       "    .dataframe tbody tr th {\n",
       "        vertical-align: top;\n",
       "    }\n",
       "\n",
       "    .dataframe thead th {\n",
       "        text-align: right;\n",
       "    }\n",
       "</style>\n",
       "<table border=\"1\" class=\"dataframe\">\n",
       "  <thead>\n",
       "    <tr style=\"text-align: right;\">\n",
       "      <th></th>\n",
       "      <th>Model_Name</th>\n",
       "      <th>Max_F1</th>\n",
       "      <th>Max_Wtd_Acc</th>\n",
       "      <th>Max_Acc</th>\n",
       "      <th>Cutoff_F1</th>\n",
       "      <th>Cutoff_Wtd_Acc</th>\n",
       "      <th>Cutoff_Acc</th>\n",
       "      <th>Pred_Default_F1</th>\n",
       "      <th>Pred_Default_Wtd_Acc</th>\n",
       "      <th>Pred_Default_Acc</th>\n",
       "    </tr>\n",
       "  </thead>\n",
       "  <tbody>\n",
       "    <tr>\n",
       "      <th>0</th>\n",
       "      <td>knn</td>\n",
       "      <td>0.522618</td>\n",
       "      <td>0.702542</td>\n",
       "      <td>0.810167</td>\n",
       "      <td>0.22</td>\n",
       "      <td>0.20</td>\n",
       "      <td>0.40</td>\n",
       "      <td>0.282</td>\n",
       "      <td>0.328</td>\n",
       "      <td>0.115</td>\n",
       "    </tr>\n",
       "    <tr>\n",
       "      <th>1</th>\n",
       "      <td>lda</td>\n",
       "      <td>0.521241</td>\n",
       "      <td>0.696883</td>\n",
       "      <td>0.815542</td>\n",
       "      <td>0.24</td>\n",
       "      <td>0.24</td>\n",
       "      <td>0.47</td>\n",
       "      <td>0.258</td>\n",
       "      <td>0.258</td>\n",
       "      <td>0.101</td>\n",
       "    </tr>\n",
       "    <tr>\n",
       "      <th>2</th>\n",
       "      <td>qda</td>\n",
       "      <td>0.509236</td>\n",
       "      <td>0.689705</td>\n",
       "      <td>0.805583</td>\n",
       "      <td>0.44</td>\n",
       "      <td>0.38</td>\n",
       "      <td>0.70</td>\n",
       "      <td>0.228</td>\n",
       "      <td>0.271</td>\n",
       "      <td>0.115</td>\n",
       "    </tr>\n",
       "    <tr>\n",
       "      <th>3</th>\n",
       "      <td>naivebayes</td>\n",
       "      <td>0.479401</td>\n",
       "      <td>0.665306</td>\n",
       "      <td>0.807042</td>\n",
       "      <td>0.44</td>\n",
       "      <td>0.44</td>\n",
       "      <td>0.55</td>\n",
       "      <td>0.213</td>\n",
       "      <td>0.213</td>\n",
       "      <td>0.110</td>\n",
       "    </tr>\n",
       "    <tr>\n",
       "      <th>4</th>\n",
       "      <td>decisiontree</td>\n",
       "      <td>0.543725</td>\n",
       "      <td>0.716112</td>\n",
       "      <td>0.828083</td>\n",
       "      <td>0.28</td>\n",
       "      <td>0.22</td>\n",
       "      <td>0.58</td>\n",
       "      <td>0.186</td>\n",
       "      <td>0.327</td>\n",
       "      <td>0.112</td>\n",
       "    </tr>\n",
       "    <tr>\n",
       "      <th>5</th>\n",
       "      <td>randomforest</td>\n",
       "      <td>0.568530</td>\n",
       "      <td>0.730763</td>\n",
       "      <td>0.831333</td>\n",
       "      <td>0.27</td>\n",
       "      <td>0.22</td>\n",
       "      <td>0.50</td>\n",
       "      <td>0.231</td>\n",
       "      <td>0.311</td>\n",
       "      <td>0.109</td>\n",
       "    </tr>\n",
       "    <tr>\n",
       "      <th>6</th>\n",
       "      <td>extratrees</td>\n",
       "      <td>0.529889</td>\n",
       "      <td>0.704663</td>\n",
       "      <td>0.811500</td>\n",
       "      <td>0.23</td>\n",
       "      <td>0.23</td>\n",
       "      <td>0.38</td>\n",
       "      <td>0.272</td>\n",
       "      <td>0.272</td>\n",
       "      <td>0.115</td>\n",
       "    </tr>\n",
       "    <tr>\n",
       "      <th>7</th>\n",
       "      <td>ada</td>\n",
       "      <td>0.534252</td>\n",
       "      <td>0.710515</td>\n",
       "      <td>0.818000</td>\n",
       "      <td>0.49</td>\n",
       "      <td>0.49</td>\n",
       "      <td>0.50</td>\n",
       "      <td>0.293</td>\n",
       "      <td>0.293</td>\n",
       "      <td>0.105</td>\n",
       "    </tr>\n",
       "    <tr>\n",
       "      <th>8</th>\n",
       "      <td>gradboost</td>\n",
       "      <td>0.547964</td>\n",
       "      <td>0.718622</td>\n",
       "      <td>0.820875</td>\n",
       "      <td>0.24</td>\n",
       "      <td>0.20</td>\n",
       "      <td>0.47</td>\n",
       "      <td>0.256</td>\n",
       "      <td>0.336</td>\n",
       "      <td>0.119</td>\n",
       "    </tr>\n",
       "  </tbody>\n",
       "</table>\n",
       "</div>"
      ],
      "text/plain": [
       "     Model_Name    Max_F1  Max_Wtd_Acc   Max_Acc  Cutoff_F1  Cutoff_Wtd_Acc  \\\n",
       "0           knn  0.522618     0.702542  0.810167       0.22            0.20   \n",
       "1           lda  0.521241     0.696883  0.815542       0.24            0.24   \n",
       "2           qda  0.509236     0.689705  0.805583       0.44            0.38   \n",
       "3    naivebayes  0.479401     0.665306  0.807042       0.44            0.44   \n",
       "4  decisiontree  0.543725     0.716112  0.828083       0.28            0.22   \n",
       "5  randomforest  0.568530     0.730763  0.831333       0.27            0.22   \n",
       "6    extratrees  0.529889     0.704663  0.811500       0.23            0.23   \n",
       "7           ada  0.534252     0.710515  0.818000       0.49            0.49   \n",
       "8     gradboost  0.547964     0.718622  0.820875       0.24            0.20   \n",
       "\n",
       "   Cutoff_Acc  Pred_Default_F1  Pred_Default_Wtd_Acc  Pred_Default_Acc  \n",
       "0        0.40            0.282                 0.328             0.115  \n",
       "1        0.47            0.258                 0.258             0.101  \n",
       "2        0.70            0.228                 0.271             0.115  \n",
       "3        0.55            0.213                 0.213             0.110  \n",
       "4        0.58            0.186                 0.327             0.112  \n",
       "5        0.50            0.231                 0.311             0.109  \n",
       "6        0.38            0.272                 0.272             0.115  \n",
       "7        0.50            0.293                 0.293             0.105  \n",
       "8        0.47            0.256                 0.336             0.119  "
      ]
     },
     "execution_count": 39,
     "metadata": {},
     "output_type": "execute_result"
    }
   ],
   "source": [
    "comparison_train"
   ]
  },
  {
   "cell_type": "markdown",
   "id": "fd4da0fc",
   "metadata": {},
   "source": [
    "From the table, the standard F1 score appears to be a better predictor, with weighted accuracy being a close second in some cases. Let's test this on the test data."
   ]
  },
  {
   "cell_type": "code",
   "execution_count": 43,
   "id": "c4768071",
   "metadata": {},
   "outputs": [],
   "source": [
    "comparison_test=run_comparison(X_train, y_train, X_test, y_test, models_list)"
   ]
  },
  {
   "cell_type": "code",
   "execution_count": 44,
   "id": "3851d925",
   "metadata": {},
   "outputs": [
    {
     "data": {
      "text/html": [
       "<div>\n",
       "<style scoped>\n",
       "    .dataframe tbody tr th:only-of-type {\n",
       "        vertical-align: middle;\n",
       "    }\n",
       "\n",
       "    .dataframe tbody tr th {\n",
       "        vertical-align: top;\n",
       "    }\n",
       "\n",
       "    .dataframe thead th {\n",
       "        text-align: right;\n",
       "    }\n",
       "</style>\n",
       "<table border=\"1\" class=\"dataframe\">\n",
       "  <thead>\n",
       "    <tr style=\"text-align: right;\">\n",
       "      <th></th>\n",
       "      <th>Model_Name</th>\n",
       "      <th>Max_F1</th>\n",
       "      <th>Max_Wtd_Acc</th>\n",
       "      <th>Max_Acc</th>\n",
       "      <th>Cutoff_F1</th>\n",
       "      <th>Cutoff_Wtd_Acc</th>\n",
       "      <th>Cutoff_Acc</th>\n",
       "      <th>Pred_Default_F1</th>\n",
       "      <th>Pred_Default_Wtd_Acc</th>\n",
       "      <th>Pred_Default_Acc</th>\n",
       "    </tr>\n",
       "  </thead>\n",
       "  <tbody>\n",
       "    <tr>\n",
       "      <th>0</th>\n",
       "      <td>knn</td>\n",
       "      <td>0.518748</td>\n",
       "      <td>0.699667</td>\n",
       "      <td>0.807333</td>\n",
       "      <td>0.23</td>\n",
       "      <td>0.20</td>\n",
       "      <td>0.40</td>\n",
       "      <td>0.263</td>\n",
       "      <td>0.324</td>\n",
       "      <td>0.116</td>\n",
       "    </tr>\n",
       "    <tr>\n",
       "      <th>1</th>\n",
       "      <td>lda</td>\n",
       "      <td>0.509572</td>\n",
       "      <td>0.688714</td>\n",
       "      <td>0.812333</td>\n",
       "      <td>0.24</td>\n",
       "      <td>0.24</td>\n",
       "      <td>0.45</td>\n",
       "      <td>0.258</td>\n",
       "      <td>0.258</td>\n",
       "      <td>0.114</td>\n",
       "    </tr>\n",
       "    <tr>\n",
       "      <th>2</th>\n",
       "      <td>qda</td>\n",
       "      <td>0.512126</td>\n",
       "      <td>0.689342</td>\n",
       "      <td>0.800667</td>\n",
       "      <td>0.42</td>\n",
       "      <td>0.39</td>\n",
       "      <td>0.70</td>\n",
       "      <td>0.246</td>\n",
       "      <td>0.270</td>\n",
       "      <td>0.119</td>\n",
       "    </tr>\n",
       "    <tr>\n",
       "      <th>3</th>\n",
       "      <td>naivebayes</td>\n",
       "      <td>0.467553</td>\n",
       "      <td>0.657121</td>\n",
       "      <td>0.803000</td>\n",
       "      <td>0.45</td>\n",
       "      <td>0.45</td>\n",
       "      <td>0.61</td>\n",
       "      <td>0.192</td>\n",
       "      <td>0.192</td>\n",
       "      <td>0.089</td>\n",
       "    </tr>\n",
       "    <tr>\n",
       "      <th>4</th>\n",
       "      <td>decisiontree</td>\n",
       "      <td>0.519695</td>\n",
       "      <td>0.701234</td>\n",
       "      <td>0.819000</td>\n",
       "      <td>0.23</td>\n",
       "      <td>0.22</td>\n",
       "      <td>0.64</td>\n",
       "      <td>0.304</td>\n",
       "      <td>0.326</td>\n",
       "      <td>0.097</td>\n",
       "    </tr>\n",
       "    <tr>\n",
       "      <th>5</th>\n",
       "      <td>randomforest</td>\n",
       "      <td>0.546619</td>\n",
       "      <td>0.712903</td>\n",
       "      <td>0.820833</td>\n",
       "      <td>0.26</td>\n",
       "      <td>0.24</td>\n",
       "      <td>0.49</td>\n",
       "      <td>0.247</td>\n",
       "      <td>0.275</td>\n",
       "      <td>0.121</td>\n",
       "    </tr>\n",
       "    <tr>\n",
       "      <th>6</th>\n",
       "      <td>extratrees</td>\n",
       "      <td>0.504659</td>\n",
       "      <td>0.691637</td>\n",
       "      <td>0.809667</td>\n",
       "      <td>0.25</td>\n",
       "      <td>0.21</td>\n",
       "      <td>0.33</td>\n",
       "      <td>0.226</td>\n",
       "      <td>0.334</td>\n",
       "      <td>0.145</td>\n",
       "    </tr>\n",
       "    <tr>\n",
       "      <th>7</th>\n",
       "      <td>ada</td>\n",
       "      <td>0.518995</td>\n",
       "      <td>0.699584</td>\n",
       "      <td>0.815167</td>\n",
       "      <td>0.49</td>\n",
       "      <td>0.49</td>\n",
       "      <td>0.50</td>\n",
       "      <td>0.296</td>\n",
       "      <td>0.296</td>\n",
       "      <td>0.106</td>\n",
       "    </tr>\n",
       "    <tr>\n",
       "      <th>8</th>\n",
       "      <td>gradboost</td>\n",
       "      <td>0.538012</td>\n",
       "      <td>0.708444</td>\n",
       "      <td>0.819333</td>\n",
       "      <td>0.29</td>\n",
       "      <td>0.20</td>\n",
       "      <td>0.43</td>\n",
       "      <td>0.206</td>\n",
       "      <td>0.329</td>\n",
       "      <td>0.134</td>\n",
       "    </tr>\n",
       "  </tbody>\n",
       "</table>\n",
       "</div>"
      ],
      "text/plain": [
       "     Model_Name    Max_F1  Max_Wtd_Acc   Max_Acc  Cutoff_F1  Cutoff_Wtd_Acc  \\\n",
       "0           knn  0.518748     0.699667  0.807333       0.23            0.20   \n",
       "1           lda  0.509572     0.688714  0.812333       0.24            0.24   \n",
       "2           qda  0.512126     0.689342  0.800667       0.42            0.39   \n",
       "3    naivebayes  0.467553     0.657121  0.803000       0.45            0.45   \n",
       "4  decisiontree  0.519695     0.701234  0.819000       0.23            0.22   \n",
       "5  randomforest  0.546619     0.712903  0.820833       0.26            0.24   \n",
       "6    extratrees  0.504659     0.691637  0.809667       0.25            0.21   \n",
       "7           ada  0.518995     0.699584  0.815167       0.49            0.49   \n",
       "8     gradboost  0.538012     0.708444  0.819333       0.29            0.20   \n",
       "\n",
       "   Cutoff_Acc  Pred_Default_F1  Pred_Default_Wtd_Acc  Pred_Default_Acc  \n",
       "0        0.40            0.263                 0.324             0.116  \n",
       "1        0.45            0.258                 0.258             0.114  \n",
       "2        0.70            0.246                 0.270             0.119  \n",
       "3        0.61            0.192                 0.192             0.089  \n",
       "4        0.64            0.304                 0.326             0.097  \n",
       "5        0.49            0.247                 0.275             0.121  \n",
       "6        0.33            0.226                 0.334             0.145  \n",
       "7        0.50            0.296                 0.296             0.106  \n",
       "8        0.43            0.206                 0.329             0.134  "
      ]
     },
     "execution_count": 44,
     "metadata": {},
     "output_type": "execute_result"
    }
   ],
   "source": [
    "comparison_test"
   ]
  },
  {
   "cell_type": "code",
   "execution_count": null,
   "id": "d2940b16",
   "metadata": {},
   "outputs": [],
   "source": []
  }
 ],
 "metadata": {
  "kernelspec": {
   "display_name": "Python 3 (ipykernel)",
   "language": "python",
   "name": "python3"
  },
  "language_info": {
   "codemirror_mode": {
    "name": "ipython",
    "version": 3
   },
   "file_extension": ".py",
   "mimetype": "text/x-python",
   "name": "python",
   "nbconvert_exporter": "python",
   "pygments_lexer": "ipython3",
   "version": "3.9.12"
  }
 },
 "nbformat": 4,
 "nbformat_minor": 5
}
